{
 "cells": [
  {
   "cell_type": "markdown",
   "metadata": {},
   "source": [
    "# <주가 데이터 분석 및 Arima 기반 예측>"
   ]
  },
  {
   "cell_type": "code",
   "execution_count": 66,
   "metadata": {},
   "outputs": [],
   "source": [
    "import FinanceDataReader as fdr\n",
    "import os\n",
    "import numpy as np, pandas as pd\n",
    "\n",
    "%matplotlib inline\n",
    "import matplotlib.pyplot as plt\n",
    "import matplotlib\n",
    "import seaborn as sns\n",
    "plt.style.use('seaborn-whitegrid')\n",
    "\n",
    "import statsmodels.api as sm\n",
    "from statsmodels.graphics.tsaplots import plot_acf, plot_pacf\n",
    "from statsmodels.tsa.arima.model import ARIMA\n",
    "from statsmodels.tsa.statespace.sarimax import SARIMAX\n",
    "from pmdarima.arima import auto_arima\n",
    "import itertools"
   ]
  },
  {
   "cell_type": "code",
   "execution_count": null,
   "metadata": {},
   "outputs": [],
   "source": []
  },
  {
   "cell_type": "markdown",
   "metadata": {},
   "source": [
    "### 1.  주가데이터 불러오기"
   ]
  },
  {
   "cell_type": "code",
   "execution_count": 67,
   "metadata": {},
   "outputs": [],
   "source": [
    "data = fdr.DataReader('360750', '2020-01-01') # TIGER 미국 S&P500"
   ]
  },
  {
   "cell_type": "code",
   "execution_count": 68,
   "metadata": {},
   "outputs": [
    {
     "data": {
      "text/html": [
       "<div>\n",
       "<style scoped>\n",
       "    .dataframe tbody tr th:only-of-type {\n",
       "        vertical-align: middle;\n",
       "    }\n",
       "\n",
       "    .dataframe tbody tr th {\n",
       "        vertical-align: top;\n",
       "    }\n",
       "\n",
       "    .dataframe thead th {\n",
       "        text-align: right;\n",
       "    }\n",
       "</style>\n",
       "<table border=\"1\" class=\"dataframe\">\n",
       "  <thead>\n",
       "    <tr style=\"text-align: right;\">\n",
       "      <th></th>\n",
       "      <th>Open</th>\n",
       "      <th>High</th>\n",
       "      <th>Low</th>\n",
       "      <th>Close</th>\n",
       "      <th>Volume</th>\n",
       "      <th>Change</th>\n",
       "    </tr>\n",
       "    <tr>\n",
       "      <th>Date</th>\n",
       "      <th></th>\n",
       "      <th></th>\n",
       "      <th></th>\n",
       "      <th></th>\n",
       "      <th></th>\n",
       "      <th></th>\n",
       "    </tr>\n",
       "  </thead>\n",
       "  <tbody>\n",
       "    <tr>\n",
       "      <th>2020-08-07</th>\n",
       "      <td>9656</td>\n",
       "      <td>9671</td>\n",
       "      <td>9601</td>\n",
       "      <td>9646</td>\n",
       "      <td>123741</td>\n",
       "      <td>NaN</td>\n",
       "    </tr>\n",
       "    <tr>\n",
       "      <th>2020-08-10</th>\n",
       "      <td>9638</td>\n",
       "      <td>9676</td>\n",
       "      <td>9633</td>\n",
       "      <td>9670</td>\n",
       "      <td>208345</td>\n",
       "      <td>0.002488</td>\n",
       "    </tr>\n",
       "    <tr>\n",
       "      <th>2020-08-11</th>\n",
       "      <td>9673</td>\n",
       "      <td>9681</td>\n",
       "      <td>9658</td>\n",
       "      <td>9680</td>\n",
       "      <td>81625</td>\n",
       "      <td>0.001034</td>\n",
       "    </tr>\n",
       "    <tr>\n",
       "      <th>2020-08-12</th>\n",
       "      <td>9613</td>\n",
       "      <td>9637</td>\n",
       "      <td>9576</td>\n",
       "      <td>9641</td>\n",
       "      <td>66770</td>\n",
       "      <td>-0.004029</td>\n",
       "    </tr>\n",
       "    <tr>\n",
       "      <th>2020-08-13</th>\n",
       "      <td>9716</td>\n",
       "      <td>9716</td>\n",
       "      <td>9673</td>\n",
       "      <td>9690</td>\n",
       "      <td>160173</td>\n",
       "      <td>0.005082</td>\n",
       "    </tr>\n",
       "  </tbody>\n",
       "</table>\n",
       "</div>"
      ],
      "text/plain": [
       "            Open  High   Low  Close  Volume    Change\n",
       "Date                                                 \n",
       "2020-08-07  9656  9671  9601   9646  123741       NaN\n",
       "2020-08-10  9638  9676  9633   9670  208345  0.002488\n",
       "2020-08-11  9673  9681  9658   9680   81625  0.001034\n",
       "2020-08-12  9613  9637  9576   9641   66770 -0.004029\n",
       "2020-08-13  9716  9716  9673   9690  160173  0.005082"
      ]
     },
     "execution_count": 68,
     "metadata": {},
     "output_type": "execute_result"
    }
   ],
   "source": [
    "data.head()"
   ]
  },
  {
   "cell_type": "code",
   "execution_count": 69,
   "metadata": {},
   "outputs": [
    {
     "data": {
      "text/html": [
       "<div>\n",
       "<style scoped>\n",
       "    .dataframe tbody tr th:only-of-type {\n",
       "        vertical-align: middle;\n",
       "    }\n",
       "\n",
       "    .dataframe tbody tr th {\n",
       "        vertical-align: top;\n",
       "    }\n",
       "\n",
       "    .dataframe thead th {\n",
       "        text-align: right;\n",
       "    }\n",
       "</style>\n",
       "<table border=\"1\" class=\"dataframe\">\n",
       "  <thead>\n",
       "    <tr style=\"text-align: right;\">\n",
       "      <th></th>\n",
       "      <th>Open</th>\n",
       "      <th>High</th>\n",
       "      <th>Low</th>\n",
       "      <th>price</th>\n",
       "      <th>Volume</th>\n",
       "      <th>Change</th>\n",
       "    </tr>\n",
       "    <tr>\n",
       "      <th>Date</th>\n",
       "      <th></th>\n",
       "      <th></th>\n",
       "      <th></th>\n",
       "      <th></th>\n",
       "      <th></th>\n",
       "      <th></th>\n",
       "    </tr>\n",
       "  </thead>\n",
       "  <tbody>\n",
       "    <tr>\n",
       "      <th>2020-08-07</th>\n",
       "      <td>9656</td>\n",
       "      <td>9671</td>\n",
       "      <td>9601</td>\n",
       "      <td>9646</td>\n",
       "      <td>123741</td>\n",
       "      <td>NaN</td>\n",
       "    </tr>\n",
       "    <tr>\n",
       "      <th>2020-08-10</th>\n",
       "      <td>9638</td>\n",
       "      <td>9676</td>\n",
       "      <td>9633</td>\n",
       "      <td>9670</td>\n",
       "      <td>208345</td>\n",
       "      <td>0.002488</td>\n",
       "    </tr>\n",
       "    <tr>\n",
       "      <th>2020-08-11</th>\n",
       "      <td>9673</td>\n",
       "      <td>9681</td>\n",
       "      <td>9658</td>\n",
       "      <td>9680</td>\n",
       "      <td>81625</td>\n",
       "      <td>0.001034</td>\n",
       "    </tr>\n",
       "    <tr>\n",
       "      <th>2020-08-12</th>\n",
       "      <td>9613</td>\n",
       "      <td>9637</td>\n",
       "      <td>9576</td>\n",
       "      <td>9641</td>\n",
       "      <td>66770</td>\n",
       "      <td>-0.004029</td>\n",
       "    </tr>\n",
       "    <tr>\n",
       "      <th>2020-08-13</th>\n",
       "      <td>9716</td>\n",
       "      <td>9716</td>\n",
       "      <td>9673</td>\n",
       "      <td>9690</td>\n",
       "      <td>160173</td>\n",
       "      <td>0.005082</td>\n",
       "    </tr>\n",
       "    <tr>\n",
       "      <th>...</th>\n",
       "      <td>...</td>\n",
       "      <td>...</td>\n",
       "      <td>...</td>\n",
       "      <td>...</td>\n",
       "      <td>...</td>\n",
       "      <td>...</td>\n",
       "    </tr>\n",
       "    <tr>\n",
       "      <th>2024-01-09</th>\n",
       "      <td>15610</td>\n",
       "      <td>15680</td>\n",
       "      <td>15605</td>\n",
       "      <td>15680</td>\n",
       "      <td>1748882</td>\n",
       "      <td>0.013247</td>\n",
       "    </tr>\n",
       "    <tr>\n",
       "      <th>2024-01-10</th>\n",
       "      <td>15685</td>\n",
       "      <td>15745</td>\n",
       "      <td>15685</td>\n",
       "      <td>15715</td>\n",
       "      <td>1522027</td>\n",
       "      <td>0.002232</td>\n",
       "    </tr>\n",
       "    <tr>\n",
       "      <th>2024-01-11</th>\n",
       "      <td>15805</td>\n",
       "      <td>15825</td>\n",
       "      <td>15765</td>\n",
       "      <td>15765</td>\n",
       "      <td>1503556</td>\n",
       "      <td>0.003182</td>\n",
       "    </tr>\n",
       "    <tr>\n",
       "      <th>2024-01-12</th>\n",
       "      <td>15730</td>\n",
       "      <td>15735</td>\n",
       "      <td>15680</td>\n",
       "      <td>15715</td>\n",
       "      <td>1328451</td>\n",
       "      <td>-0.003172</td>\n",
       "    </tr>\n",
       "    <tr>\n",
       "      <th>2024-01-15</th>\n",
       "      <td>15725</td>\n",
       "      <td>15845</td>\n",
       "      <td>15725</td>\n",
       "      <td>15835</td>\n",
       "      <td>1141362</td>\n",
       "      <td>0.007636</td>\n",
       "    </tr>\n",
       "  </tbody>\n",
       "</table>\n",
       "<p>847 rows × 6 columns</p>\n",
       "</div>"
      ],
      "text/plain": [
       "             Open   High    Low  price   Volume    Change\n",
       "Date                                                     \n",
       "2020-08-07   9656   9671   9601   9646   123741       NaN\n",
       "2020-08-10   9638   9676   9633   9670   208345  0.002488\n",
       "2020-08-11   9673   9681   9658   9680    81625  0.001034\n",
       "2020-08-12   9613   9637   9576   9641    66770 -0.004029\n",
       "2020-08-13   9716   9716   9673   9690   160173  0.005082\n",
       "...           ...    ...    ...    ...      ...       ...\n",
       "2024-01-09  15610  15680  15605  15680  1748882  0.013247\n",
       "2024-01-10  15685  15745  15685  15715  1522027  0.002232\n",
       "2024-01-11  15805  15825  15765  15765  1503556  0.003182\n",
       "2024-01-12  15730  15735  15680  15715  1328451 -0.003172\n",
       "2024-01-15  15725  15845  15725  15835  1141362  0.007636\n",
       "\n",
       "[847 rows x 6 columns]"
      ]
     },
     "execution_count": 69,
     "metadata": {},
     "output_type": "execute_result"
    }
   ],
   "source": [
    "data = data.rename(columns={'Close':'price'})\n",
    "data"
   ]
  },
  {
   "cell_type": "code",
   "execution_count": 70,
   "metadata": {},
   "outputs": [
    {
     "data": {
      "text/html": [
       "<div>\n",
       "<style scoped>\n",
       "    .dataframe tbody tr th:only-of-type {\n",
       "        vertical-align: middle;\n",
       "    }\n",
       "\n",
       "    .dataframe tbody tr th {\n",
       "        vertical-align: top;\n",
       "    }\n",
       "\n",
       "    .dataframe thead th {\n",
       "        text-align: right;\n",
       "    }\n",
       "</style>\n",
       "<table border=\"1\" class=\"dataframe\">\n",
       "  <thead>\n",
       "    <tr style=\"text-align: right;\">\n",
       "      <th></th>\n",
       "      <th>price</th>\n",
       "    </tr>\n",
       "    <tr>\n",
       "      <th>Date</th>\n",
       "      <th></th>\n",
       "    </tr>\n",
       "  </thead>\n",
       "  <tbody>\n",
       "    <tr>\n",
       "      <th>2020-08-07</th>\n",
       "      <td>9646</td>\n",
       "    </tr>\n",
       "    <tr>\n",
       "      <th>2020-08-10</th>\n",
       "      <td>9670</td>\n",
       "    </tr>\n",
       "    <tr>\n",
       "      <th>2020-08-11</th>\n",
       "      <td>9680</td>\n",
       "    </tr>\n",
       "    <tr>\n",
       "      <th>2020-08-12</th>\n",
       "      <td>9641</td>\n",
       "    </tr>\n",
       "    <tr>\n",
       "      <th>2020-08-13</th>\n",
       "      <td>9690</td>\n",
       "    </tr>\n",
       "    <tr>\n",
       "      <th>...</th>\n",
       "      <td>...</td>\n",
       "    </tr>\n",
       "    <tr>\n",
       "      <th>2024-01-09</th>\n",
       "      <td>15680</td>\n",
       "    </tr>\n",
       "    <tr>\n",
       "      <th>2024-01-10</th>\n",
       "      <td>15715</td>\n",
       "    </tr>\n",
       "    <tr>\n",
       "      <th>2024-01-11</th>\n",
       "      <td>15765</td>\n",
       "    </tr>\n",
       "    <tr>\n",
       "      <th>2024-01-12</th>\n",
       "      <td>15715</td>\n",
       "    </tr>\n",
       "    <tr>\n",
       "      <th>2024-01-15</th>\n",
       "      <td>15835</td>\n",
       "    </tr>\n",
       "  </tbody>\n",
       "</table>\n",
       "<p>847 rows × 1 columns</p>\n",
       "</div>"
      ],
      "text/plain": [
       "            price\n",
       "Date             \n",
       "2020-08-07   9646\n",
       "2020-08-10   9670\n",
       "2020-08-11   9680\n",
       "2020-08-12   9641\n",
       "2020-08-13   9690\n",
       "...           ...\n",
       "2024-01-09  15680\n",
       "2024-01-10  15715\n",
       "2024-01-11  15765\n",
       "2024-01-12  15715\n",
       "2024-01-15  15835\n",
       "\n",
       "[847 rows x 1 columns]"
      ]
     },
     "execution_count": 70,
     "metadata": {},
     "output_type": "execute_result"
    }
   ],
   "source": [
    "data = data.drop(['Open', 'High', 'Low','Volume', 'Change'], axis=1)\n",
    "data"
   ]
  },
  {
   "cell_type": "code",
   "execution_count": null,
   "metadata": {},
   "outputs": [],
   "source": []
  },
  {
   "cell_type": "markdown",
   "metadata": {},
   "source": [
    "### 데이터 시각화"
   ]
  },
  {
   "cell_type": "code",
   "execution_count": 71,
   "metadata": {},
   "outputs": [
    {
     "data": {
      "image/png": "[encoded data removed]",
      "text/plain": [
       "<Figure size 1000x600 with 1 Axes>"
      ]
     },
     "metadata": {},
     "output_type": "display_data"
    }
   ],
   "source": [
    "data.plot(figsize=(10,6), color='blue')\n",
    "plt.savefig(\"raw_data.png\", dpi=150, bbox_inches='tight')\n",
    "plt.show()"
   ]
  },
  {
   "cell_type": "code",
   "execution_count": null,
   "metadata": {},
   "outputs": [],
   "source": []
  },
  {
   "cell_type": "markdown",
   "metadata": {},
   "source": [
    "### 자기상관함수(ACF), 편자기함수(PACF) 확인"
   ]
  },
  {
   "cell_type": "code",
   "execution_count": 72,
   "metadata": {},
   "outputs": [
    {
     "name": "stderr",
     "output_type": "stream",
     "text": [
      "c:\\Users\\jh\\anaconda3\\lib\\site-packages\\statsmodels\\graphics\\tsaplots.py:348: FutureWarning: The default method 'yw' can produce PACF values outside of the [-1,1] interval. After 0.13, the default will change tounadjusted Yule-Walker ('ywm'). You can use this method now by setting method='ywm'.\n",
      "  warnings.warn(\n"
     ]
    },
    {
     "data": {
      "image/png": "[encoded data removed]",
      "text/plain": [
       "<Figure size 1000x300 with 2 Axes>"
      ]
     },
     "metadata": {},
     "output_type": "display_data"
    }
   ],
   "source": [
    "fig, ax = plt.subplots(1,2, figsize=(10,3))\n",
    "fig.suptitle('Raw Data')\n",
    "sm.graphics.tsa.plot_acf(data.values.squeeze(),  lags=30, ax=ax[0])\n",
    "sm.graphics.tsa.plot_pacf(data.values.squeeze(), lags=30, ax=ax[1])\n",
    "plt.savefig(\"raw_data_ACF_PACF.png\", dpi=150, bbox_inches='tight')\n",
    "plt.show()"
   ]
  },
  {
   "cell_type": "code",
   "execution_count": 73,
   "metadata": {},
   "outputs": [],
   "source": [
    "# acf나 pacf가 급격히 0으로 절단되는 모습을 보이지 않는다. "
   ]
  },
  {
   "cell_type": "code",
   "execution_count": null,
   "metadata": {},
   "outputs": [],
   "source": []
  },
  {
   "cell_type": "markdown",
   "metadata": {},
   "source": [
    "### 시계열 데이터 정상과정 확인(Augmented Dicky-Fuller 검정)"
   ]
  },
  {
   "cell_type": "code",
   "execution_count": 74,
   "metadata": {},
   "outputs": [
    {
     "data": {
      "text/plain": [
       "(-0.9739934647745999,\n",
       " 0.7626310325602552,\n",
       " 0,\n",
       " 846,\n",
       " {'1%': -3.4381032536542913,\n",
       "  '5%': -2.8649624121419746,\n",
       "  '10%': -2.5685923644574107},\n",
       " 10251.081930734255)"
      ]
     },
     "execution_count": 74,
     "metadata": {},
     "output_type": "execute_result"
    }
   ],
   "source": [
    "from statsmodels.tsa.stattools import adfuller\n",
    "dftest = adfuller(data['price'])\n",
    "dftest"
   ]
  },
  {
   "cell_type": "code",
   "execution_count": 75,
   "metadata": {},
   "outputs": [
    {
     "name": "stdout",
     "output_type": "stream",
     "text": [
      "Test Statistic                  -0.973993\n",
      "p-value                          0.762631\n",
      "#Lags Used                       0.000000\n",
      "Number of Observations Used    846.000000\n",
      "Critical Value (1%)             -3.438103\n",
      "Critical Value (5%)             -2.864962\n",
      "Critical Value (10%)            -2.568592\n",
      "dtype: float64\n"
     ]
    }
   ],
   "source": [
    "dfoutput = pd.Series(dftest[0:4], index=['Test Statistic','p-value','#Lags Used','Number of Observations Used'])\n",
    "for key, value in dftest[4].items():\n",
    "    dfoutput['Critical Value (%s)'%key] = value\n",
    "print(dfoutput)"
   ]
  },
  {
   "cell_type": "code",
   "execution_count": 76,
   "metadata": {},
   "outputs": [],
   "source": [
    "# p value is 기준점(0.05)보다 크가 따라서 귀무가설을 기각하지 못한다. \n",
    "# 귀무가설은 통계적으로 일정한 특성이 없음(non-sationalry) 이다.\n",
    "# =시간에 따라 평균이나 분산이 변함\n",
    "\n",
    "# 따라서 현재 시계열 데이터는 통계적으로 일정한 특성이 없음(non-sationalry)"
   ]
  },
  {
   "cell_type": "code",
   "execution_count": null,
   "metadata": {},
   "outputs": [],
   "source": []
  },
  {
   "cell_type": "markdown",
   "metadata": {},
   "source": [
    "### 시계열 데이터의 정상데이터로 변환"
   ]
  },
  {
   "cell_type": "code",
   "execution_count": 77,
   "metadata": {},
   "outputs": [],
   "source": [
    "## differencing 차분 : 시계열 데이터에서 현재 값과 이전 값 간의 차이를 계산하는데 사용"
   ]
  },
  {
   "cell_type": "code",
   "execution_count": 78,
   "metadata": {},
   "outputs": [
    {
     "name": "stdout",
     "output_type": "stream",
     "text": [
      "########## Raw Data ##########\n",
      "Date\n",
      "2020-08-10     24.0\n",
      "2020-08-11     10.0\n",
      "2020-08-12    -39.0\n",
      "2020-08-13     49.0\n",
      "2020-08-14     39.0\n",
      "              ...  \n",
      "2024-01-09    205.0\n",
      "2024-01-10     35.0\n",
      "2024-01-11     50.0\n",
      "2024-01-12    -50.0\n",
      "2024-01-15    120.0\n",
      "Name: diff, Length: 846, dtype: float64\n"
     ]
    }
   ],
   "source": [
    "#diff_data = data.copy()\n",
    "data['diff'] = data['price'].diff()\n",
    "data = data.dropna()\n",
    "print('########## Raw Data ##########')\n",
    "print(data['diff'])"
   ]
  },
  {
   "cell_type": "code",
   "execution_count": 79,
   "metadata": {},
   "outputs": [
    {
     "data": {
      "image/png": "[encoded data removed]",
      "text/plain": [
       "<Figure size 1200x800 with 2 Axes>"
      ]
     },
     "metadata": {},
     "output_type": "display_data"
    }
   ],
   "source": [
    "plt.figure(figsize = (12,8))\n",
    "plt.subplot(211)\n",
    "plt.plot(data['price'], color='blue')\n",
    "plt.legend(['Raw Data (Nonstationary)'])\n",
    "plt.subplot(212)\n",
    "plt.plot(data['diff'], 'orange')\n",
    "plt.legend(['Difference Data (Sationary)'])\n",
    "plt.savefig(\"raw_diff.png\", dpi=150, bbox_inches='tight')\n",
    "plt.show()"
   ]
  },
  {
   "cell_type": "code",
   "execution_count": 80,
   "metadata": {},
   "outputs": [
    {
     "name": "stderr",
     "output_type": "stream",
     "text": [
      "c:\\Users\\jh\\anaconda3\\lib\\site-packages\\statsmodels\\graphics\\tsaplots.py:348: FutureWarning: The default method 'yw' can produce PACF values outside of the [-1,1] interval. After 0.13, the default will change tounadjusted Yule-Walker ('ywm'). You can use this method now by setting method='ywm'.\n",
      "  warnings.warn(\n"
     ]
    },
    {
     "data": {
      "image/png": "[encoded data removed]",
      "text/plain": [
       "<Figure size 1000x300 with 2 Axes>"
      ]
     },
     "metadata": {},
     "output_type": "display_data"
    }
   ],
   "source": [
    "fig, ax = plt.subplots(1,2, figsize=(10,3))\n",
    "fig.suptitle('Differenced Data')\n",
    "sm.graphics.tsa.plot_acf(data['diff'].values.squeeze(), lags=30, ax=ax[0])\n",
    "sm.graphics.tsa.plot_pacf(data['diff'].values.squeeze(), lags=30, ax=ax[1])\n",
    "plt.savefig(\"diff_data_ACF_PACF.png\", dpi=150, bbox_inches='tight')\n",
    "plt.show()"
   ]
  },
  {
   "cell_type": "code",
   "execution_count": 81,
   "metadata": {},
   "outputs": [
    {
     "data": {
      "text/plain": [
       "(-30.072585128500336,\n",
       " 0.0,\n",
       " 0,\n",
       " 845,\n",
       " {'1%': -3.4381124572018487,\n",
       "  '5%': -2.864966469499829,\n",
       "  '10%': -2.5685945257518994},\n",
       " 10232.82682587772)"
      ]
     },
     "execution_count": 81,
     "metadata": {},
     "output_type": "execute_result"
    }
   ],
   "source": [
    "dftest2 = adfuller(data['diff'])\n",
    "dftest2"
   ]
  },
  {
   "cell_type": "code",
   "execution_count": 82,
   "metadata": {
    "scrolled": true
   },
   "outputs": [
    {
     "name": "stdout",
     "output_type": "stream",
     "text": [
      "Test Statistic                 -30.072585\n",
      "p-value                          0.000000\n",
      "#Lags Used                       0.000000\n",
      "Number of Observations Used    845.000000\n",
      "Critical Value (1%)             -3.438103\n",
      "Critical Value (5%)             -2.864962\n",
      "Critical Value (10%)            -2.568592\n",
      "dtype: float64\n"
     ]
    }
   ],
   "source": [
    "dfoutput2 = pd.Series(dftest2[0:4], index=['Test Statistic','p-value','#Lags Used','Number of Observations Used'])\n",
    "for key, value in dftest[4].items():\n",
    "    dfoutput2['Critical Value (%s)'%key] = value\n",
    "print(dfoutput2)"
   ]
  },
  {
   "cell_type": "code",
   "execution_count": null,
   "metadata": {},
   "outputs": [],
   "source": []
  },
  {
   "cell_type": "markdown",
   "metadata": {},
   "source": [
    "### Arima 모델 학습"
   ]
  },
  {
   "cell_type": "code",
   "execution_count": 83,
   "metadata": {},
   "outputs": [
    {
     "data": {
      "text/html": [
       "<table class=\"simpletable\">\n",
       "<caption>SARIMAX Results</caption>\n",
       "<tr>\n",
       "  <th>Dep. Variable:</th>           <td>y</td>        <th>  No. Observations:  </th>    <td>846</td>   \n",
       "</tr>\n",
       "<tr>\n",
       "  <th>Model:</th>            <td>ARIMA(1, 1, 2)</td>  <th>  Log Likelihood     </th> <td>-5246.276</td>\n",
       "</tr>\n",
       "<tr>\n",
       "  <th>Date:</th>            <td>Mon, 15 Jan 2024</td> <th>  AIC                </th> <td>10500.552</td>\n",
       "</tr>\n",
       "<tr>\n",
       "  <th>Time:</th>                <td>17:50:43</td>     <th>  BIC                </th> <td>10519.509</td>\n",
       "</tr>\n",
       "<tr>\n",
       "  <th>Sample:</th>                  <td>0</td>        <th>  HQIC               </th> <td>10507.815</td>\n",
       "</tr>\n",
       "<tr>\n",
       "  <th></th>                      <td> - 846</td>      <th>                     </th>     <td> </td>    \n",
       "</tr>\n",
       "<tr>\n",
       "  <th>Covariance Type:</th>        <td>opg</td>       <th>                     </th>     <td> </td>    \n",
       "</tr>\n",
       "</table>\n",
       "<table class=\"simpletable\">\n",
       "<tr>\n",
       "     <td></td>       <th>coef</th>     <th>std err</th>      <th>z</th>      <th>P>|z|</th>  <th>[0.025</th>    <th>0.975]</th>  \n",
       "</tr>\n",
       "<tr>\n",
       "  <th>ar.L1</th>  <td>   -0.8608</td> <td>    0.120</td> <td>   -7.157</td> <td> 0.000</td> <td>   -1.097</td> <td>   -0.625</td>\n",
       "</tr>\n",
       "<tr>\n",
       "  <th>ma.L1</th>  <td>    0.8314</td> <td>    0.124</td> <td>    6.691</td> <td> 0.000</td> <td>    0.588</td> <td>    1.075</td>\n",
       "</tr>\n",
       "<tr>\n",
       "  <th>ma.L2</th>  <td>   -0.0550</td> <td>    0.031</td> <td>   -1.799</td> <td> 0.072</td> <td>   -0.115</td> <td>    0.005</td>\n",
       "</tr>\n",
       "<tr>\n",
       "  <th>sigma2</th> <td> 1.446e+04</td> <td>  527.164</td> <td>   27.432</td> <td> 0.000</td> <td> 1.34e+04</td> <td> 1.55e+04</td>\n",
       "</tr>\n",
       "</table>\n",
       "<table class=\"simpletable\">\n",
       "<tr>\n",
       "  <th>Ljung-Box (L1) (Q):</th>     <td>0.02</td> <th>  Jarque-Bera (JB):  </th> <td>109.36</td>\n",
       "</tr>\n",
       "<tr>\n",
       "  <th>Prob(Q):</th>                <td>0.90</td> <th>  Prob(JB):          </th>  <td>0.00</td> \n",
       "</tr>\n",
       "<tr>\n",
       "  <th>Heteroskedasticity (H):</th> <td>1.49</td> <th>  Skew:              </th>  <td>-0.26</td>\n",
       "</tr>\n",
       "<tr>\n",
       "  <th>Prob(H) (two-sided):</th>    <td>0.00</td> <th>  Kurtosis:          </th>  <td>4.68</td> \n",
       "</tr>\n",
       "</table><br/><br/>Warnings:<br/>[1] Covariance matrix calculated using the outer product of gradients (complex-step)."
      ],
      "text/plain": [
       "<class 'statsmodels.iolib.summary.Summary'>\n",
       "\"\"\"\n",
       "                               SARIMAX Results                                \n",
       "==============================================================================\n",
       "Dep. Variable:                      y   No. Observations:                  846\n",
       "Model:                 ARIMA(1, 1, 2)   Log Likelihood               -5246.276\n",
       "Date:                Mon, 15 Jan 2024   AIC                          10500.552\n",
       "Time:                        17:50:43   BIC                          10519.509\n",
       "Sample:                             0   HQIC                         10507.815\n",
       "                                - 846                                         \n",
       "Covariance Type:                  opg                                         \n",
       "==============================================================================\n",
       "                 coef    std err          z      P>|z|      [0.025      0.975]\n",
       "------------------------------------------------------------------------------\n",
       "ar.L1         -0.8608      0.120     -7.157      0.000      -1.097      -0.625\n",
       "ma.L1          0.8314      0.124      6.691      0.000       0.588       1.075\n",
       "ma.L2         -0.0550      0.031     -1.799      0.072      -0.115       0.005\n",
       "sigma2      1.446e+04    527.164     27.432      0.000    1.34e+04    1.55e+04\n",
       "===================================================================================\n",
       "Ljung-Box (L1) (Q):                   0.02   Jarque-Bera (JB):               109.36\n",
       "Prob(Q):                              0.90   Prob(JB):                         0.00\n",
       "Heteroskedasticity (H):               1.49   Skew:                            -0.26\n",
       "Prob(H) (two-sided):                  0.00   Kurtosis:                         4.68\n",
       "===================================================================================\n",
       "\n",
       "Warnings:\n",
       "[1] Covariance matrix calculated using the outer product of gradients (complex-step).\n",
       "\"\"\""
      ]
     },
     "execution_count": 83,
     "metadata": {},
     "output_type": "execute_result"
    }
   ],
   "source": [
    "model = ARIMA(data['price'].values, order=(1,1,2))\n",
    "model_fit = model.fit()\n",
    "model_fit.summary()"
   ]
  },
  {
   "cell_type": "code",
   "execution_count": 84,
   "metadata": {},
   "outputs": [
    {
     "data": {
      "text/html": [
       "<div>\n",
       "<style scoped>\n",
       "    .dataframe tbody tr th:only-of-type {\n",
       "        vertical-align: middle;\n",
       "    }\n",
       "\n",
       "    .dataframe tbody tr th {\n",
       "        vertical-align: top;\n",
       "    }\n",
       "\n",
       "    .dataframe thead th {\n",
       "        text-align: right;\n",
       "    }\n",
       "</style>\n",
       "<table border=\"1\" class=\"dataframe\">\n",
       "  <thead>\n",
       "    <tr style=\"text-align: right;\">\n",
       "      <th></th>\n",
       "      <th>lb_stat</th>\n",
       "      <th>lb_pvalue</th>\n",
       "    </tr>\n",
       "  </thead>\n",
       "  <tbody>\n",
       "    <tr>\n",
       "      <th>1</th>\n",
       "      <td>0.000014</td>\n",
       "      <td>0.99698</td>\n",
       "    </tr>\n",
       "  </tbody>\n",
       "</table>\n",
       "</div>"
      ],
      "text/plain": [
       "    lb_stat  lb_pvalue\n",
       "1  0.000014    0.99698"
      ]
     },
     "execution_count": 84,
     "metadata": {},
     "output_type": "execute_result"
    }
   ],
   "source": [
    "Ljung_box = sm.stats.acorr_ljungbox(model_fit.resid, lags=[1], return_df=True)\n",
    "Ljung_box"
   ]
  },
  {
   "cell_type": "code",
   "execution_count": 85,
   "metadata": {},
   "outputs": [
    {
     "name": "stdout",
     "output_type": "stream",
     "text": [
      "<class 'pandas.core.frame.DataFrame'>\n",
      "Int64Index: 1 entries, 1 to 1\n",
      "Data columns (total 2 columns):\n",
      " #   Column     Non-Null Count  Dtype  \n",
      "---  ------     --------------  -----  \n",
      " 0   lb_stat    1 non-null      float64\n",
      " 1   lb_pvalue  1 non-null      float64\n",
      "dtypes: float64(2)\n",
      "memory usage: 24.0 bytes\n"
     ]
    }
   ],
   "source": [
    "Ljung_box.info()"
   ]
  },
  {
   "cell_type": "code",
   "execution_count": 86,
   "metadata": {},
   "outputs": [
    {
     "data": {
      "text/plain": [
       "array([[[0.01553459],\n",
       "        [0.90081028]]])"
      ]
     },
     "execution_count": 86,
     "metadata": {},
     "output_type": "execute_result"
    }
   ],
   "source": [
    "LjungBox = model_fit.test_serial_correlation('ljungbox', lags=1)\n",
    "LjungBox"
   ]
  },
  {
   "cell_type": "code",
   "execution_count": 87,
   "metadata": {},
   "outputs": [
    {
     "data": {
      "text/plain": [
       "(1, 2, 1)"
      ]
     },
     "execution_count": 87,
     "metadata": {},
     "output_type": "execute_result"
    }
   ],
   "source": [
    "LjungBox.shape"
   ]
  },
  {
   "cell_type": "code",
   "execution_count": 88,
   "metadata": {},
   "outputs": [
    {
     "data": {
      "text/plain": [
       "0.9008102836904217"
      ]
     },
     "execution_count": 88,
     "metadata": {},
     "output_type": "execute_result"
    }
   ],
   "source": [
    "LjungBox[0,1,0]"
   ]
  },
  {
   "cell_type": "code",
   "execution_count": 89,
   "metadata": {},
   "outputs": [
    {
     "data": {
      "text/plain": [
       "array([[0.01553459],\n",
       "       [0.90081028]])"
      ]
     },
     "execution_count": 89,
     "metadata": {},
     "output_type": "execute_result"
    }
   ],
   "source": [
    "LjungBox[-1]"
   ]
  },
  {
   "cell_type": "code",
   "execution_count": 91,
   "metadata": {},
   "outputs": [
    {
     "data": {
      "text/plain": [
       "10500.55"
      ]
     },
     "execution_count": 91,
     "metadata": {},
     "output_type": "execute_result"
    }
   ],
   "source": [
    "round(model_fit.aic, 2)"
   ]
  },
  {
   "cell_type": "code",
   "execution_count": null,
   "metadata": {},
   "outputs": [],
   "source": []
  },
  {
   "cell_type": "markdown",
   "metadata": {},
   "source": [
    "### Arima 모델비교"
   ]
  },
  {
   "cell_type": "code",
   "execution_count": 92,
   "metadata": {},
   "outputs": [],
   "source": [
    "# parameter seacrh"
   ]
  },
  {
   "cell_type": "code",
   "execution_count": 93,
   "metadata": {},
   "outputs": [],
   "source": [
    "p = range(0,4)\n",
    "d = range(1,4)\n",
    "q = range(0,4)\n",
    "pdq = list(itertools.product(p,d,q))"
   ]
  },
  {
   "cell_type": "code",
   "execution_count": 94,
   "metadata": {},
   "outputs": [
    {
     "data": {
      "text/plain": [
       "list"
      ]
     },
     "execution_count": 94,
     "metadata": {},
     "output_type": "execute_result"
    }
   ],
   "source": [
    "type(pdq)"
   ]
  },
  {
   "cell_type": "code",
   "execution_count": 95,
   "metadata": {},
   "outputs": [
    {
     "data": {
      "text/plain": [
       "48"
      ]
     },
     "execution_count": 95,
     "metadata": {},
     "output_type": "execute_result"
    }
   ],
   "source": [
    "len(pdq)"
   ]
  },
  {
   "cell_type": "code",
   "execution_count": 96,
   "metadata": {},
   "outputs": [
    {
     "name": "stdout",
     "output_type": "stream",
     "text": [
      "ARIMA: (0, 1, 0) >> AIC : 10498.18,  Ljung-Box : 0.3\n",
      "ARIMA: (0, 1, 1) >> AIC : 10499.29,  Ljung-Box : 0.9235\n",
      "ARIMA: (0, 1, 2) >> AIC : 10500.86,  Ljung-Box : 0.904\n"
     ]
    },
    {
     "name": "stdout",
     "output_type": "stream",
     "text": [
      "ARIMA: (0, 1, 3) >> AIC : 10502.81,  Ljung-Box : 0.9031\n",
      "ARIMA: (0, 2, 0) >> AIC : 11097.77,  Ljung-Box : 0.0\n",
      "ARIMA: (0, 2, 1) >> AIC : 10493.74,  Ljung-Box : 0.3097\n",
      "ARIMA: (0, 2, 2) >> AIC : 10494.73,  Ljung-Box : 0.9712\n",
      "ARIMA: (0, 2, 3) >> AIC : 10496.14,  Ljung-Box : 0.9572\n",
      "ARIMA: (0, 3, 0) >> AIC : 12013.81,  Ljung-Box : 0.0\n",
      "ARIMA: (0, 3, 1) >> AIC : 11097.01,  Ljung-Box : 0.0\n"
     ]
    },
    {
     "name": "stderr",
     "output_type": "stream",
     "text": [
      "c:\\Users\\jh\\anaconda3\\lib\\site-packages\\statsmodels\\tsa\\statespace\\sarimax.py:978: UserWarning: Non-invertible starting MA parameters found. Using zeros as starting parameters.\n",
      "  warn('Non-invertible starting MA parameters found.'\n"
     ]
    },
    {
     "name": "stdout",
     "output_type": "stream",
     "text": [
      "ARIMA: (0, 3, 2) >> AIC : 10508.04,  Ljung-Box : 0.4593\n",
      "ARIMA: (0, 3, 3) >> AIC : 10507.9,  Ljung-Box : 0.9657\n",
      "ARIMA: (1, 1, 0) >> AIC : 10499.33,  Ljung-Box : 0.8892\n",
      "ARIMA: (1, 1, 1) >> AIC : 10500.76,  Ljung-Box : 0.8968\n",
      "ARIMA: (1, 1, 2) >> AIC : 10500.55,  Ljung-Box : 0.9008\n",
      "ARIMA: (1, 1, 3) >> AIC : 10502.55,  Ljung-Box : 0.9017\n",
      "ARIMA: (1, 2, 0) >> AIC : 10853.17,  Ljung-Box : 0.0\n",
      "ARIMA: (1, 2, 1) >> AIC : 10494.78,  Ljung-Box : 0.9294\n",
      "ARIMA: (1, 2, 2) >> AIC : 10496.44,  Ljung-Box : 0.15\n"
     ]
    },
    {
     "name": "stderr",
     "output_type": "stream",
     "text": [
      "c:\\Users\\jh\\anaconda3\\lib\\site-packages\\statsmodels\\tsa\\statespace\\sarimax.py:966: UserWarning: Non-stationary starting autoregressive parameters found. Using zeros as starting parameters.\n",
      "  warn('Non-stationary starting autoregressive parameters'\n",
      "c:\\Users\\jh\\anaconda3\\lib\\site-packages\\statsmodels\\base\\model.py:604: ConvergenceWarning: Maximum Likelihood optimization failed to converge. Check mle_retvals\n",
      "  warnings.warn(\"Maximum Likelihood optimization failed to \"\n"
     ]
    },
    {
     "name": "stdout",
     "output_type": "stream",
     "text": [
      "ARIMA: (1, 2, 3) >> AIC : 10495.92,  Ljung-Box : 0.945\n",
      "ARIMA: (1, 3, 0) >> AIC : 11525.17,  Ljung-Box : 0.0\n",
      "ARIMA: (1, 3, 1) >> AIC : 10855.26,  Ljung-Box : 0.0\n",
      "ARIMA: (1, 3, 2) >> AIC : 10508.03,  Ljung-Box : 0.927\n",
      "ARIMA: (1, 3, 3) >> AIC : 10510.34,  Ljung-Box : 0.356\n",
      "ARIMA: (2, 1, 0) >> AIC : 10500.87,  Ljung-Box : 0.8984\n",
      "ARIMA: (2, 1, 1) >> AIC : 10502.79,  Ljung-Box : 0.8999\n"
     ]
    },
    {
     "name": "stderr",
     "output_type": "stream",
     "text": [
      "c:\\Users\\jh\\anaconda3\\lib\\site-packages\\statsmodels\\base\\model.py:604: ConvergenceWarning: Maximum Likelihood optimization failed to converge. Check mle_retvals\n",
      "  warnings.warn(\"Maximum Likelihood optimization failed to \"\n"
     ]
    },
    {
     "name": "stdout",
     "output_type": "stream",
     "text": [
      "ARIMA: (2, 1, 2) >> AIC : 10495.96,  Ljung-Box : 0.5134\n",
      "ARIMA: (2, 1, 3) >> AIC : 10504.38,  Ljung-Box : 0.8838\n",
      "ARIMA: (2, 2, 0) >> AIC : 10747.54,  Ljung-Box : 0.0116\n",
      "ARIMA: (2, 2, 1) >> AIC : 10496.2,  Ljung-Box : 0.9466\n",
      "ARIMA: (2, 2, 2) >> AIC : 10495.92,  Ljung-Box : 0.9516\n",
      "ARIMA: (2, 2, 3) >> AIC : 10491.02,  Ljung-Box : 0.5857\n",
      "ARIMA: (2, 3, 0) >> AIC : 11273.14,  Ljung-Box : 0.0\n",
      "ARIMA: (2, 3, 1) >> AIC : 10750.35,  Ljung-Box : 0.0129\n",
      "ARIMA: (2, 3, 2) >> AIC : 10509.16,  Ljung-Box : 0.9607\n",
      "ARIMA: (2, 3, 3) >> AIC : 10511.6,  Ljung-Box : 0.9276\n",
      "ARIMA: (3, 1, 0) >> AIC : 10502.83,  Ljung-Box : 0.8972\n",
      "ARIMA: (3, 1, 1) >> AIC : 10504.72,  Ljung-Box : 0.8973\n",
      "ARIMA: (3, 1, 2) >> AIC : 10504.33,  Ljung-Box : 0.9082\n"
     ]
    },
    {
     "name": "stderr",
     "output_type": "stream",
     "text": [
      "c:\\Users\\jh\\anaconda3\\lib\\site-packages\\statsmodels\\base\\model.py:604: ConvergenceWarning: Maximum Likelihood optimization failed to converge. Check mle_retvals\n",
      "  warnings.warn(\"Maximum Likelihood optimization failed to \"\n"
     ]
    },
    {
     "name": "stdout",
     "output_type": "stream",
     "text": [
      "ARIMA: (3, 1, 3) >> AIC : 10498.48,  Ljung-Box : 0.5758\n",
      "ARIMA: (3, 2, 0) >> AIC : 10697.31,  Ljung-Box : 0.0757\n",
      "ARIMA: (3, 2, 1) >> AIC : 10498.12,  Ljung-Box : 0.9466\n",
      "ARIMA: (3, 2, 2) >> AIC : 10500.19,  Ljung-Box : 0.9481\n"
     ]
    },
    {
     "name": "stderr",
     "output_type": "stream",
     "text": [
      "c:\\Users\\jh\\anaconda3\\lib\\site-packages\\statsmodels\\base\\model.py:604: ConvergenceWarning: Maximum Likelihood optimization failed to converge. Check mle_retvals\n",
      "  warnings.warn(\"Maximum Likelihood optimization failed to \"\n"
     ]
    },
    {
     "name": "stdout",
     "output_type": "stream",
     "text": [
      "ARIMA: (3, 2, 3) >> AIC : 10495.79,  Ljung-Box : 0.9129\n",
      "ARIMA: (3, 3, 0) >> AIC : 11144.02,  Ljung-Box : 0.0001\n",
      "ARIMA: (3, 3, 1) >> AIC : 10700.58,  Ljung-Box : 0.0809\n",
      "ARIMA: (3, 3, 2) >> AIC : 10754.02,  Ljung-Box : 0.013\n",
      "ARIMA: (3, 3, 3) >> AIC : 10512.98,  Ljung-Box : 0.936\n"
     ]
    }
   ],
   "source": [
    "AIC = []\n",
    "L_Box = []\n",
    "\n",
    "for i in pdq:\n",
    "    try:\n",
    "        model = ARIMA(data['price'].values, order=(i))\n",
    "        model_fit = model.fit()\n",
    "        LjungBox = model_fit.test_serial_correlation('ljungbox', lags=1)\n",
    "        LB = LjungBox[0,1,0]\n",
    "        AIC.append(round(model_fit.aic,2))\n",
    "        L_Box.append(round(LB,4))\n",
    "        print(f'ARIMA: {i} >> AIC : {round(model_fit.aic,2)},  Ljung-Box : {round(LB,4)}')\n",
    "    except:\n",
    "        continue"
   ]
  },
  {
   "cell_type": "code",
   "execution_count": 97,
   "metadata": {},
   "outputs": [],
   "source": [
    "# Search optimal parameters"
   ]
  },
  {
   "cell_type": "code",
   "execution_count": 98,
   "metadata": {},
   "outputs": [],
   "source": [
    "result01 = list(zip(pdq, AIC,L_Box)) # 같은 위치끼지 병합"
   ]
  },
  {
   "cell_type": "code",
   "execution_count": 99,
   "metadata": {},
   "outputs": [
    {
     "data": {
      "text/plain": [
       "48"
      ]
     },
     "execution_count": 99,
     "metadata": {},
     "output_type": "execute_result"
    }
   ],
   "source": [
    "len(result01)"
   ]
  },
  {
   "cell_type": "code",
   "execution_count": 100,
   "metadata": {},
   "outputs": [
    {
     "data": {
      "text/plain": [
       "list"
      ]
     },
     "execution_count": 100,
     "metadata": {},
     "output_type": "execute_result"
    }
   ],
   "source": [
    "type(result01)"
   ]
  },
  {
   "cell_type": "code",
   "execution_count": 101,
   "metadata": {},
   "outputs": [
    {
     "data": {
      "text/plain": [
       "[((0, 1, 0), 10498.18, 0.3),\n",
       " ((0, 1, 1), 10499.29, 0.9235),\n",
       " ((0, 1, 2), 10500.86, 0.904),\n",
       " ((0, 1, 3), 10502.81, 0.9031),\n",
       " ((0, 2, 0), 11097.77, 0.0),\n",
       " ((0, 2, 1), 10493.74, 0.3097),\n",
       " ((0, 2, 2), 10494.73, 0.9712),\n",
       " ((0, 2, 3), 10496.14, 0.9572),\n",
       " ((0, 3, 0), 12013.81, 0.0),\n",
       " ((0, 3, 1), 11097.01, 0.0),\n",
       " ((0, 3, 2), 10508.04, 0.4593),\n",
       " ((0, 3, 3), 10507.9, 0.9657),\n",
       " ((1, 1, 0), 10499.33, 0.8892),\n",
       " ((1, 1, 1), 10500.76, 0.8968),\n",
       " ((1, 1, 2), 10500.55, 0.9008),\n",
       " ((1, 1, 3), 10502.55, 0.9017),\n",
       " ((1, 2, 0), 10853.17, 0.0),\n",
       " ((1, 2, 1), 10494.78, 0.9294),\n",
       " ((1, 2, 2), 10496.44, 0.15),\n",
       " ((1, 2, 3), 10495.92, 0.945),\n",
       " ((1, 3, 0), 11525.17, 0.0),\n",
       " ((1, 3, 1), 10855.26, 0.0),\n",
       " ((1, 3, 2), 10508.03, 0.927),\n",
       " ((1, 3, 3), 10510.34, 0.356),\n",
       " ((2, 1, 0), 10500.87, 0.8984),\n",
       " ((2, 1, 1), 10502.79, 0.8999),\n",
       " ((2, 1, 2), 10495.96, 0.5134),\n",
       " ((2, 1, 3), 10504.38, 0.8838),\n",
       " ((2, 2, 0), 10747.54, 0.0116),\n",
       " ((2, 2, 1), 10496.2, 0.9466),\n",
       " ((2, 2, 2), 10495.92, 0.9516),\n",
       " ((2, 2, 3), 10491.02, 0.5857),\n",
       " ((2, 3, 0), 11273.14, 0.0),\n",
       " ((2, 3, 1), 10750.35, 0.0129),\n",
       " ((2, 3, 2), 10509.16, 0.9607),\n",
       " ((2, 3, 3), 10511.6, 0.9276),\n",
       " ((3, 1, 0), 10502.83, 0.8972),\n",
       " ((3, 1, 1), 10504.72, 0.8973),\n",
       " ((3, 1, 2), 10504.33, 0.9082),\n",
       " ((3, 1, 3), 10498.48, 0.5758),\n",
       " ((3, 2, 0), 10697.31, 0.0757),\n",
       " ((3, 2, 1), 10498.12, 0.9466),\n",
       " ((3, 2, 2), 10500.19, 0.9481),\n",
       " ((3, 2, 3), 10495.79, 0.9129),\n",
       " ((3, 3, 0), 11144.02, 0.0001),\n",
       " ((3, 3, 1), 10700.58, 0.0809),\n",
       " ((3, 3, 2), 10754.02, 0.013),\n",
       " ((3, 3, 3), 10512.98, 0.936)]"
      ]
     },
     "execution_count": 101,
     "metadata": {},
     "output_type": "execute_result"
    }
   ],
   "source": [
    "result01"
   ]
  },
  {
   "cell_type": "code",
   "execution_count": 102,
   "metadata": {},
   "outputs": [
    {
     "name": "stderr",
     "output_type": "stream",
     "text": [
      "c:\\Users\\jh\\anaconda3\\lib\\site-packages\\numpy\\core\\fromnumeric.py:1970: VisibleDeprecationWarning: Creating an ndarray from ragged nested sequences (which is a list-or-tuple of lists-or-tuples-or ndarrays with different lengths or shapes) is deprecated. If you meant to do this, you must specify 'dtype=object' when creating the ndarray.\n",
      "  result = asarray(a).shape\n"
     ]
    },
    {
     "data": {
      "text/plain": [
       "(48, 3)"
      ]
     },
     "execution_count": 102,
     "metadata": {},
     "output_type": "execute_result"
    }
   ],
   "source": [
    "np.shape(result01)"
   ]
  },
  {
   "cell_type": "code",
   "execution_count": 103,
   "metadata": {},
   "outputs": [
    {
     "name": "stderr",
     "output_type": "stream",
     "text": [
      "C:\\Users\\jh\\AppData\\Local\\Temp\\ipykernel_5804\\2028618651.py:1: VisibleDeprecationWarning: Creating an ndarray from ragged nested sequences (which is a list-or-tuple of lists-or-tuples-or ndarrays with different lengths or shapes) is deprecated. If you meant to do this, you must specify 'dtype=object' when creating the ndarray.\n",
      "  result02 = np.array(result01)\n"
     ]
    },
    {
     "data": {
      "text/plain": [
       "array([[(0, 1, 0), 10498.18, 0.3],\n",
       "       [(0, 1, 1), 10499.29, 0.9235],\n",
       "       [(0, 1, 2), 10500.86, 0.904],\n",
       "       [(0, 1, 3), 10502.81, 0.9031],\n",
       "       [(0, 2, 0), 11097.77, 0.0],\n",
       "       [(0, 2, 1), 10493.74, 0.3097],\n",
       "       [(0, 2, 2), 10494.73, 0.9712],\n",
       "       [(0, 2, 3), 10496.14, 0.9572],\n",
       "       [(0, 3, 0), 12013.81, 0.0],\n",
       "       [(0, 3, 1), 11097.01, 0.0],\n",
       "       [(0, 3, 2), 10508.04, 0.4593],\n",
       "       [(0, 3, 3), 10507.9, 0.9657],\n",
       "       [(1, 1, 0), 10499.33, 0.8892],\n",
       "       [(1, 1, 1), 10500.76, 0.8968],\n",
       "       [(1, 1, 2), 10500.55, 0.9008],\n",
       "       [(1, 1, 3), 10502.55, 0.9017],\n",
       "       [(1, 2, 0), 10853.17, 0.0],\n",
       "       [(1, 2, 1), 10494.78, 0.9294],\n",
       "       [(1, 2, 2), 10496.44, 0.15],\n",
       "       [(1, 2, 3), 10495.92, 0.945],\n",
       "       [(1, 3, 0), 11525.17, 0.0],\n",
       "       [(1, 3, 1), 10855.26, 0.0],\n",
       "       [(1, 3, 2), 10508.03, 0.927],\n",
       "       [(1, 3, 3), 10510.34, 0.356],\n",
       "       [(2, 1, 0), 10500.87, 0.8984],\n",
       "       [(2, 1, 1), 10502.79, 0.8999],\n",
       "       [(2, 1, 2), 10495.96, 0.5134],\n",
       "       [(2, 1, 3), 10504.38, 0.8838],\n",
       "       [(2, 2, 0), 10747.54, 0.0116],\n",
       "       [(2, 2, 1), 10496.2, 0.9466],\n",
       "       [(2, 2, 2), 10495.92, 0.9516],\n",
       "       [(2, 2, 3), 10491.02, 0.5857],\n",
       "       [(2, 3, 0), 11273.14, 0.0],\n",
       "       [(2, 3, 1), 10750.35, 0.0129],\n",
       "       [(2, 3, 2), 10509.16, 0.9607],\n",
       "       [(2, 3, 3), 10511.6, 0.9276],\n",
       "       [(3, 1, 0), 10502.83, 0.8972],\n",
       "       [(3, 1, 1), 10504.72, 0.8973],\n",
       "       [(3, 1, 2), 10504.33, 0.9082],\n",
       "       [(3, 1, 3), 10498.48, 0.5758],\n",
       "       [(3, 2, 0), 10697.31, 0.0757],\n",
       "       [(3, 2, 1), 10498.12, 0.9466],\n",
       "       [(3, 2, 2), 10500.19, 0.9481],\n",
       "       [(3, 2, 3), 10495.79, 0.9129],\n",
       "       [(3, 3, 0), 11144.02, 0.0001],\n",
       "       [(3, 3, 1), 10700.58, 0.0809],\n",
       "       [(3, 3, 2), 10754.02, 0.013],\n",
       "       [(3, 3, 3), 10512.98, 0.936]], dtype=object)"
      ]
     },
     "execution_count": 103,
     "metadata": {},
     "output_type": "execute_result"
    }
   ],
   "source": [
    "result02 = np.array(result01)\n",
    "result02"
   ]
  },
  {
   "cell_type": "code",
   "execution_count": 104,
   "metadata": {},
   "outputs": [
    {
     "data": {
      "text/plain": [
       "array([0.3, 0.9235, 0.904, 0.9031, 0.0, 0.3097, 0.9712, 0.9572, 0.0, 0.0,\n",
       "       0.4593, 0.9657, 0.8892, 0.8968, 0.9008, 0.9017, 0.0, 0.9294, 0.15,\n",
       "       0.945, 0.0, 0.0, 0.927, 0.356, 0.8984, 0.8999, 0.5134, 0.8838,\n",
       "       0.0116, 0.9466, 0.9516, 0.5857, 0.0, 0.0129, 0.9607, 0.9276,\n",
       "       0.8972, 0.8973, 0.9082, 0.5758, 0.0757, 0.9466, 0.9481, 0.9129,\n",
       "       0.0001, 0.0809, 0.013, 0.936], dtype=object)"
      ]
     },
     "execution_count": 104,
     "metadata": {},
     "output_type": "execute_result"
    }
   ],
   "source": [
    "result02[:, 2]"
   ]
  },
  {
   "cell_type": "code",
   "execution_count": 105,
   "metadata": {},
   "outputs": [
    {
     "data": {
      "text/plain": [
       "array([[(0, 1, 0), 10498.18, 0.3],\n",
       "       [(0, 1, 1), 10499.29, 0.9235],\n",
       "       [(0, 1, 2), 10500.86, 0.904],\n",
       "       [(0, 1, 3), 10502.81, 0.9031],\n",
       "       [(0, 2, 0), 11097.77, 0.0],\n",
       "       [(0, 2, 1), 10493.74, 0.3097],\n",
       "       [(0, 2, 2), 10494.73, 0.9712],\n",
       "       [(0, 2, 3), 10496.14, 0.9572],\n",
       "       [(0, 3, 0), 12013.81, 0.0],\n",
       "       [(0, 3, 1), 11097.01, 0.0],\n",
       "       [(0, 3, 2), 10508.04, 0.4593],\n",
       "       [(0, 3, 3), 10507.9, 0.9657],\n",
       "       [(1, 1, 0), 10499.33, 0.8892],\n",
       "       [(1, 1, 1), 10500.76, 0.8968],\n",
       "       [(1, 1, 2), 10500.55, 0.9008],\n",
       "       [(1, 1, 3), 10502.55, 0.9017],\n",
       "       [(1, 2, 0), 10853.17, 0.0],\n",
       "       [(1, 2, 1), 10494.78, 0.9294],\n",
       "       [(1, 2, 2), 10496.44, 0.15],\n",
       "       [(1, 2, 3), 10495.92, 0.945],\n",
       "       [(1, 3, 0), 11525.17, 0.0],\n",
       "       [(1, 3, 1), 10855.26, 0.0],\n",
       "       [(1, 3, 2), 10508.03, 0.927],\n",
       "       [(1, 3, 3), 10510.34, 0.356],\n",
       "       [(2, 1, 0), 10500.87, 0.8984],\n",
       "       [(2, 1, 1), 10502.79, 0.8999],\n",
       "       [(2, 1, 2), 10495.96, 0.5134],\n",
       "       [(2, 1, 3), 10504.38, 0.8838],\n",
       "       [(2, 2, 0), 10747.54, 0.0116],\n",
       "       [(2, 2, 1), 10496.2, 0.9466],\n",
       "       [(2, 2, 2), 10495.92, 0.9516],\n",
       "       [(2, 2, 3), 10491.02, 0.5857],\n",
       "       [(2, 3, 0), 11273.14, 0.0],\n",
       "       [(2, 3, 1), 10750.35, 0.0129],\n",
       "       [(2, 3, 2), 10509.16, 0.9607],\n",
       "       [(2, 3, 3), 10511.6, 0.9276],\n",
       "       [(3, 1, 0), 10502.83, 0.8972],\n",
       "       [(3, 1, 1), 10504.72, 0.8973],\n",
       "       [(3, 1, 2), 10504.33, 0.9082],\n",
       "       [(3, 1, 3), 10498.48, 0.5758],\n",
       "       [(3, 2, 0), 10697.31, 0.0757],\n",
       "       [(3, 2, 1), 10498.12, 0.9466],\n",
       "       [(3, 2, 2), 10500.19, 0.9481],\n",
       "       [(3, 2, 3), 10495.79, 0.9129],\n",
       "       [(3, 3, 0), 11144.02, 0.0001],\n",
       "       [(3, 3, 1), 10700.58, 0.0809],\n",
       "       [(3, 3, 2), 10754.02, 0.013],\n",
       "       [(3, 3, 3), 10512.98, 0.936]], dtype=object)"
      ]
     },
     "execution_count": 105,
     "metadata": {},
     "output_type": "execute_result"
    }
   ],
   "source": [
    "result02"
   ]
  },
  {
   "cell_type": "code",
   "execution_count": 106,
   "metadata": {},
   "outputs": [
    {
     "data": {
      "text/plain": [
       "array([(0, 1, 0), 10498.18, 0.3], dtype=object)"
      ]
     },
     "execution_count": 106,
     "metadata": {},
     "output_type": "execute_result"
    }
   ],
   "source": [
    "result02[0]"
   ]
  },
  {
   "cell_type": "code",
   "execution_count": 107,
   "metadata": {},
   "outputs": [],
   "source": [
    "result03 = [(result02[i]) for i, j in enumerate(result02[:,2]) if j > 0.05]"
   ]
  },
  {
   "cell_type": "code",
   "execution_count": 108,
   "metadata": {},
   "outputs": [
    {
     "data": {
      "text/plain": [
       "[array([(0, 1, 0), 10498.18, 0.3], dtype=object),\n",
       " array([(0, 1, 1), 10499.29, 0.9235], dtype=object),\n",
       " array([(0, 1, 2), 10500.86, 0.904], dtype=object),\n",
       " array([(0, 1, 3), 10502.81, 0.9031], dtype=object),\n",
       " array([(0, 2, 1), 10493.74, 0.3097], dtype=object),\n",
       " array([(0, 2, 2), 10494.73, 0.9712], dtype=object),\n",
       " array([(0, 2, 3), 10496.14, 0.9572], dtype=object),\n",
       " array([(0, 3, 2), 10508.04, 0.4593], dtype=object),\n",
       " array([(0, 3, 3), 10507.9, 0.9657], dtype=object),\n",
       " array([(1, 1, 0), 10499.33, 0.8892], dtype=object),\n",
       " array([(1, 1, 1), 10500.76, 0.8968], dtype=object),\n",
       " array([(1, 1, 2), 10500.55, 0.9008], dtype=object),\n",
       " array([(1, 1, 3), 10502.55, 0.9017], dtype=object),\n",
       " array([(1, 2, 1), 10494.78, 0.9294], dtype=object),\n",
       " array([(1, 2, 2), 10496.44, 0.15], dtype=object),\n",
       " array([(1, 2, 3), 10495.92, 0.945], dtype=object),\n",
       " array([(1, 3, 2), 10508.03, 0.927], dtype=object),\n",
       " array([(1, 3, 3), 10510.34, 0.356], dtype=object),\n",
       " array([(2, 1, 0), 10500.87, 0.8984], dtype=object),\n",
       " array([(2, 1, 1), 10502.79, 0.8999], dtype=object),\n",
       " array([(2, 1, 2), 10495.96, 0.5134], dtype=object),\n",
       " array([(2, 1, 3), 10504.38, 0.8838], dtype=object),\n",
       " array([(2, 2, 1), 10496.2, 0.9466], dtype=object),\n",
       " array([(2, 2, 2), 10495.92, 0.9516], dtype=object),\n",
       " array([(2, 2, 3), 10491.02, 0.5857], dtype=object),\n",
       " array([(2, 3, 2), 10509.16, 0.9607], dtype=object),\n",
       " array([(2, 3, 3), 10511.6, 0.9276], dtype=object),\n",
       " array([(3, 1, 0), 10502.83, 0.8972], dtype=object),\n",
       " array([(3, 1, 1), 10504.72, 0.8973], dtype=object),\n",
       " array([(3, 1, 2), 10504.33, 0.9082], dtype=object),\n",
       " array([(3, 1, 3), 10498.48, 0.5758], dtype=object),\n",
       " array([(3, 2, 0), 10697.31, 0.0757], dtype=object),\n",
       " array([(3, 2, 1), 10498.12, 0.9466], dtype=object),\n",
       " array([(3, 2, 2), 10500.19, 0.9481], dtype=object),\n",
       " array([(3, 2, 3), 10495.79, 0.9129], dtype=object),\n",
       " array([(3, 3, 1), 10700.58, 0.0809], dtype=object),\n",
       " array([(3, 3, 3), 10512.98, 0.936], dtype=object)]"
      ]
     },
     "execution_count": 108,
     "metadata": {},
     "output_type": "execute_result"
    }
   ],
   "source": [
    "result03"
   ]
  },
  {
   "cell_type": "code",
   "execution_count": 109,
   "metadata": {},
   "outputs": [],
   "source": [
    "result03 = np.array(result03)"
   ]
  },
  {
   "cell_type": "code",
   "execution_count": 110,
   "metadata": {},
   "outputs": [
    {
     "data": {
      "text/plain": [
       "10491.02"
      ]
     },
     "execution_count": 110,
     "metadata": {},
     "output_type": "execute_result"
    }
   ],
   "source": [
    "min(result03[:,1])"
   ]
  },
  {
   "cell_type": "code",
   "execution_count": 111,
   "metadata": {},
   "outputs": [],
   "source": [
    "optimal = [(result03[i]) for i, j in enumerate(result03[:,1]) if j == min(result03[:,1])]"
   ]
  },
  {
   "cell_type": "code",
   "execution_count": 112,
   "metadata": {},
   "outputs": [
    {
     "data": {
      "text/plain": [
       "[array([(2, 2, 3), 10491.02, 0.5857], dtype=object)]"
      ]
     },
     "execution_count": 112,
     "metadata": {},
     "output_type": "execute_result"
    }
   ],
   "source": [
    "optimal"
   ]
  },
  {
   "cell_type": "code",
   "execution_count": 113,
   "metadata": {},
   "outputs": [
    {
     "data": {
      "text/plain": [
       "(2, 2, 3)"
      ]
     },
     "execution_count": 113,
     "metadata": {},
     "output_type": "execute_result"
    }
   ],
   "source": [
    " optimal[0][0]"
   ]
  },
  {
   "cell_type": "code",
   "execution_count": 114,
   "metadata": {},
   "outputs": [],
   "source": [
    "optimal01 =np.array(optimal)"
   ]
  },
  {
   "cell_type": "code",
   "execution_count": 115,
   "metadata": {},
   "outputs": [
    {
     "data": {
      "text/plain": [
       "(2, 2, 3)"
      ]
     },
     "execution_count": 115,
     "metadata": {},
     "output_type": "execute_result"
    }
   ],
   "source": [
    "optimal01[0,0]"
   ]
  },
  {
   "cell_type": "code",
   "execution_count": 116,
   "metadata": {},
   "outputs": [],
   "source": [
    "orders = optimal01[0,0]"
   ]
  },
  {
   "cell_type": "code",
   "execution_count": 117,
   "metadata": {},
   "outputs": [
    {
     "data": {
      "text/plain": [
       "(2, 2, 3)"
      ]
     },
     "execution_count": 117,
     "metadata": {},
     "output_type": "execute_result"
    }
   ],
   "source": [
    "orders"
   ]
  },
  {
   "cell_type": "code",
   "execution_count": null,
   "metadata": {},
   "outputs": [],
   "source": []
  },
  {
   "cell_type": "code",
   "execution_count": null,
   "metadata": {},
   "outputs": [],
   "source": []
  },
  {
   "cell_type": "markdown",
   "metadata": {},
   "source": [
    "### 최적모델로 학습"
   ]
  },
  {
   "cell_type": "code",
   "execution_count": 118,
   "metadata": {},
   "outputs": [
    {
     "data": {
      "text/html": [
       "<table class=\"simpletable\">\n",
       "<caption>SARIMAX Results</caption>\n",
       "<tr>\n",
       "  <th>Dep. Variable:</th>           <td>y</td>        <th>  No. Observations:  </th>    <td>846</td>   \n",
       "</tr>\n",
       "<tr>\n",
       "  <th>Model:</th>            <td>ARIMA(2, 2, 3)</td>  <th>  Log Likelihood     </th> <td>-5239.511</td>\n",
       "</tr>\n",
       "<tr>\n",
       "  <th>Date:</th>            <td>Mon, 15 Jan 2024</td> <th>  AIC                </th> <td>10491.022</td>\n",
       "</tr>\n",
       "<tr>\n",
       "  <th>Time:</th>                <td>17:50:59</td>     <th>  BIC                </th> <td>10519.451</td>\n",
       "</tr>\n",
       "<tr>\n",
       "  <th>Sample:</th>                  <td>0</td>        <th>  HQIC               </th> <td>10501.916</td>\n",
       "</tr>\n",
       "<tr>\n",
       "  <th></th>                      <td> - 846</td>      <th>                     </th>     <td> </td>    \n",
       "</tr>\n",
       "<tr>\n",
       "  <th>Covariance Type:</th>        <td>opg</td>       <th>                     </th>     <td> </td>    \n",
       "</tr>\n",
       "</table>\n",
       "<table class=\"simpletable\">\n",
       "<tr>\n",
       "     <td></td>       <th>coef</th>     <th>std err</th>      <th>z</th>      <th>P>|z|</th>  <th>[0.025</th>    <th>0.975]</th>  \n",
       "</tr>\n",
       "<tr>\n",
       "  <th>ar.L1</th>  <td>   -1.9298</td> <td>    0.009</td> <td> -216.559</td> <td> 0.000</td> <td>   -1.947</td> <td>   -1.912</td>\n",
       "</tr>\n",
       "<tr>\n",
       "  <th>ar.L2</th>  <td>   -0.9925</td> <td>    0.009</td> <td> -113.463</td> <td> 0.000</td> <td>   -1.010</td> <td>   -0.975</td>\n",
       "</tr>\n",
       "<tr>\n",
       "  <th>ma.L1</th>  <td>    0.9260</td> <td>    0.039</td> <td>   23.661</td> <td> 0.000</td> <td>    0.849</td> <td>    1.003</td>\n",
       "</tr>\n",
       "<tr>\n",
       "  <th>ma.L2</th>  <td>   -0.9403</td> <td>    0.070</td> <td>  -13.370</td> <td> 0.000</td> <td>   -1.078</td> <td>   -0.802</td>\n",
       "</tr>\n",
       "<tr>\n",
       "  <th>ma.L3</th>  <td>   -0.9857</td> <td>    0.037</td> <td>  -26.290</td> <td> 0.000</td> <td>   -1.059</td> <td>   -0.912</td>\n",
       "</tr>\n",
       "<tr>\n",
       "  <th>sigma2</th> <td> 1.428e+04</td> <td> 1.45e-05</td> <td> 9.83e+08</td> <td> 0.000</td> <td> 1.43e+04</td> <td> 1.43e+04</td>\n",
       "</tr>\n",
       "</table>\n",
       "<table class=\"simpletable\">\n",
       "<tr>\n",
       "  <th>Ljung-Box (L1) (Q):</th>     <td>0.30</td> <th>  Jarque-Bera (JB):  </th> <td>101.52</td>\n",
       "</tr>\n",
       "<tr>\n",
       "  <th>Prob(Q):</th>                <td>0.59</td> <th>  Prob(JB):          </th>  <td>0.00</td> \n",
       "</tr>\n",
       "<tr>\n",
       "  <th>Heteroskedasticity (H):</th> <td>1.48</td> <th>  Skew:              </th>  <td>-0.23</td>\n",
       "</tr>\n",
       "<tr>\n",
       "  <th>Prob(H) (two-sided):</th>    <td>0.00</td> <th>  Kurtosis:          </th>  <td>4.63</td> \n",
       "</tr>\n",
       "</table><br/><br/>Warnings:<br/>[1] Covariance matrix calculated using the outer product of gradients (complex-step).<br/>[2] Covariance matrix is singular or near-singular, with condition number 6.42e+23. Standard errors may be unstable."
      ],
      "text/plain": [
       "<class 'statsmodels.iolib.summary.Summary'>\n",
       "\"\"\"\n",
       "                               SARIMAX Results                                \n",
       "==============================================================================\n",
       "Dep. Variable:                      y   No. Observations:                  846\n",
       "Model:                 ARIMA(2, 2, 3)   Log Likelihood               -5239.511\n",
       "Date:                Mon, 15 Jan 2024   AIC                          10491.022\n",
       "Time:                        17:50:59   BIC                          10519.451\n",
       "Sample:                             0   HQIC                         10501.916\n",
       "                                - 846                                         \n",
       "Covariance Type:                  opg                                         \n",
       "==============================================================================\n",
       "                 coef    std err          z      P>|z|      [0.025      0.975]\n",
       "------------------------------------------------------------------------------\n",
       "ar.L1         -1.9298      0.009   -216.559      0.000      -1.947      -1.912\n",
       "ar.L2         -0.9925      0.009   -113.463      0.000      -1.010      -0.975\n",
       "ma.L1          0.9260      0.039     23.661      0.000       0.849       1.003\n",
       "ma.L2         -0.9403      0.070    -13.370      0.000      -1.078      -0.802\n",
       "ma.L3         -0.9857      0.037    -26.290      0.000      -1.059      -0.912\n",
       "sigma2      1.428e+04   1.45e-05   9.83e+08      0.000    1.43e+04    1.43e+04\n",
       "===================================================================================\n",
       "Ljung-Box (L1) (Q):                   0.30   Jarque-Bera (JB):               101.52\n",
       "Prob(Q):                              0.59   Prob(JB):                         0.00\n",
       "Heteroskedasticity (H):               1.48   Skew:                            -0.23\n",
       "Prob(H) (two-sided):                  0.00   Kurtosis:                         4.63\n",
       "===================================================================================\n",
       "\n",
       "Warnings:\n",
       "[1] Covariance matrix calculated using the outer product of gradients (complex-step).\n",
       "[2] Covariance matrix is singular or near-singular, with condition number 6.42e+23. Standard errors may be unstable.\n",
       "\"\"\""
      ]
     },
     "execution_count": 118,
     "metadata": {},
     "output_type": "execute_result"
    }
   ],
   "source": [
    "model_opt = ARIMA(data['price'].values, order = orders)\n",
    "model_opt_fit = model_opt.fit()\n",
    "model_opt_fit.summary()"
   ]
  },
  {
   "cell_type": "code",
   "execution_count": 119,
   "metadata": {},
   "outputs": [
    {
     "data": {
      "text/plain": [
       "846"
      ]
     },
     "execution_count": 119,
     "metadata": {},
     "output_type": "execute_result"
    }
   ],
   "source": [
    "len(model_opt_fit.fittedvalues)"
   ]
  },
  {
   "cell_type": "code",
   "execution_count": 120,
   "metadata": {},
   "outputs": [],
   "source": [
    "fit=pd.Series(model_opt_fit.fittedvalues, copy=True)"
   ]
  },
  {
   "cell_type": "code",
   "execution_count": 121,
   "metadata": {},
   "outputs": [
    {
     "data": {
      "text/plain": [
       "0          0.000000\n",
       "1      14503.278446\n",
       "2       9828.885827\n",
       "3       9694.061602\n",
       "4       9740.884038\n",
       "           ...     \n",
       "841    15479.093870\n",
       "842    15684.794774\n",
       "843    15728.684721\n",
       "844    15762.311930\n",
       "845    15735.420987\n",
       "Length: 846, dtype: float64"
      ]
     },
     "execution_count": 121,
     "metadata": {},
     "output_type": "execute_result"
    }
   ],
   "source": [
    "fit"
   ]
  },
  {
   "cell_type": "code",
   "execution_count": 122,
   "metadata": {},
   "outputs": [],
   "source": [
    "data = data.reset_index()"
   ]
  },
  {
   "cell_type": "code",
   "execution_count": 123,
   "metadata": {},
   "outputs": [],
   "source": [
    "data['fittedValue'] = fit"
   ]
  },
  {
   "cell_type": "code",
   "execution_count": 124,
   "metadata": {},
   "outputs": [
    {
     "data": {
      "text/html": [
       "<div>\n",
       "<style scoped>\n",
       "    .dataframe tbody tr th:only-of-type {\n",
       "        vertical-align: middle;\n",
       "    }\n",
       "\n",
       "    .dataframe tbody tr th {\n",
       "        vertical-align: top;\n",
       "    }\n",
       "\n",
       "    .dataframe thead th {\n",
       "        text-align: right;\n",
       "    }\n",
       "</style>\n",
       "<table border=\"1\" class=\"dataframe\">\n",
       "  <thead>\n",
       "    <tr style=\"text-align: right;\">\n",
       "      <th></th>\n",
       "      <th>Date</th>\n",
       "      <th>price</th>\n",
       "      <th>diff</th>\n",
       "      <th>fittedValue</th>\n",
       "    </tr>\n",
       "  </thead>\n",
       "  <tbody>\n",
       "    <tr>\n",
       "      <th>841</th>\n",
       "      <td>2024-01-09</td>\n",
       "      <td>15680</td>\n",
       "      <td>205.0</td>\n",
       "      <td>15479.093870</td>\n",
       "    </tr>\n",
       "    <tr>\n",
       "      <th>842</th>\n",
       "      <td>2024-01-10</td>\n",
       "      <td>15715</td>\n",
       "      <td>35.0</td>\n",
       "      <td>15684.794774</td>\n",
       "    </tr>\n",
       "    <tr>\n",
       "      <th>843</th>\n",
       "      <td>2024-01-11</td>\n",
       "      <td>15765</td>\n",
       "      <td>50.0</td>\n",
       "      <td>15728.684721</td>\n",
       "    </tr>\n",
       "    <tr>\n",
       "      <th>844</th>\n",
       "      <td>2024-01-12</td>\n",
       "      <td>15715</td>\n",
       "      <td>-50.0</td>\n",
       "      <td>15762.311930</td>\n",
       "    </tr>\n",
       "    <tr>\n",
       "      <th>845</th>\n",
       "      <td>2024-01-15</td>\n",
       "      <td>15835</td>\n",
       "      <td>120.0</td>\n",
       "      <td>15735.420987</td>\n",
       "    </tr>\n",
       "  </tbody>\n",
       "</table>\n",
       "</div>"
      ],
      "text/plain": [
       "          Date  price   diff   fittedValue\n",
       "841 2024-01-09  15680  205.0  15479.093870\n",
       "842 2024-01-10  15715   35.0  15684.794774\n",
       "843 2024-01-11  15765   50.0  15728.684721\n",
       "844 2024-01-12  15715  -50.0  15762.311930\n",
       "845 2024-01-15  15835  120.0  15735.420987"
      ]
     },
     "execution_count": 124,
     "metadata": {},
     "output_type": "execute_result"
    }
   ],
   "source": [
    "data.tail()"
   ]
  },
  {
   "cell_type": "code",
   "execution_count": null,
   "metadata": {},
   "outputs": [],
   "source": []
  },
  {
   "cell_type": "markdown",
   "metadata": {},
   "source": [
    "### 최종 Arima 결과 출력"
   ]
  },
  {
   "cell_type": "code",
   "execution_count": 125,
   "metadata": {},
   "outputs": [
    {
     "data": {
      "image/png": "[encoded data removed]",
      "text/plain": [
       "<Figure size 1000x500 with 1 Axes>"
      ]
     },
     "metadata": {},
     "output_type": "display_data"
    }
   ],
   "source": [
    "import datetime\n",
    "\n",
    "plt.figure(figsize=(10,5))\n",
    "plt.plot(data['Date'], data['price'], color='blue')\n",
    "\n",
    "plt.plot(data['Date'], data['fittedValue'], color='red')\n",
    "plt.legend(['data', 'fitted value'], loc='upper right', fontsize=12)\n",
    "plt.xlim(datetime.date(2021,9,1), datetime.date(2022, 8,31))\n",
    "plt.ylim(11000, 15000)\n",
    "plt.grid(True)\n",
    "plt.savefig(\"raw_fitted.png\", dpi=150, bbox_inches='tight')\n",
    "plt.show()"
   ]
  },
  {
   "cell_type": "code",
   "execution_count": null,
   "metadata": {},
   "outputs": [],
   "source": []
  }
 ],
 "metadata": {
  "kernelspec": {
   "display_name": "Python 3 (ipykernel)",
   "language": "python",
   "name": "python3"
  },
  "language_info": {
   "codemirror_mode": {
    "name": "ipython",
    "version": 3
   },
   "file_extension": ".py",
   "mimetype": "text/x-python",
   "name": "python",
   "nbconvert_exporter": "python",
   "pygments_lexer": "ipython3",
   "version": "3.9.13"
  }
 },
 "nbformat": 4,
 "nbformat_minor": 2
}
